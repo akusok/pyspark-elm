{
 "cells": [
  {
   "cell_type": "code",
   "execution_count": 1,
   "id": "1abb58cd-5b16-4838-bd6a-6aa4902cfc23",
   "metadata": {},
   "outputs": [],
   "source": [
    "import gzip as gz\n",
    "import pandas as pd\n",
    "import numpy as np\n",
    "\n",
    "np.set_printoptions(suppress=True, precision=2)"
   ]
  },
  {
   "cell_type": "code",
   "execution_count": 2,
   "id": "a3477e53-2063-451e-a0cb-52a34048ee55",
   "metadata": {},
   "outputs": [],
   "source": [
    "import pyspark\n",
    "from pyspark.sql import SparkSession\n",
    "from pyspark.sql import functions as F\n",
    "from pyspark.sql.types import StructType, StructField, IntegerType, StringType\n",
    "\n",
    "from operator import add"
   ]
  },
  {
   "cell_type": "code",
   "execution_count": 3,
   "id": "0db58a5a-50d1-4ca9-a175-1f3a2f7771be",
   "metadata": {},
   "outputs": [
    {
     "name": "stderr",
     "output_type": "stream",
     "text": [
      "Setting default log level to \"WARN\".\n",
      "To adjust logging level use sc.setLogLevel(newLevel). For SparkR, use setLogLevel(newLevel).\n"
     ]
    },
    {
     "name": "stdout",
     "output_type": "stream",
     "text": [
      "22/11/13 21:59:18 WARN NativeCodeLoader: Unable to load native-hadoop library for your platform... using builtin-java classes where applicable\n",
      "22/11/13 21:59:18 WARN Utils: Service 'SparkUI' could not bind on port 4040. Attempting port 4041.\n"
     ]
    }
   ],
   "source": [
    "spark = SparkSession.builder.getOrCreate()\n",
    "sc = spark.sparkContext"
   ]
  },
  {
   "cell_type": "markdown",
   "id": "b1f13826-4f9d-4fb7-adb9-4341426ee77e",
   "metadata": {},
   "source": [
    "## Setup"
   ]
  },
  {
   "cell_type": "code",
   "execution_count": 4,
   "id": "56fc38de-7ce8-4c27-9b5c-c2aeb30ea66d",
   "metadata": {},
   "outputs": [],
   "source": [
    "d = 13\n",
    "batch_N = 5000"
   ]
  },
  {
   "cell_type": "code",
   "execution_count": 5,
   "id": "31015df5-9398-4256-aa4a-1eef32a0afa9",
   "metadata": {},
   "outputs": [],
   "source": [
    "l = 200 #5850\n",
    "batch_l = 120\n",
    "\n",
    "W0 = np.random.randn(d, l-1)\n",
    "W0 = np.hstack([ W0, np.zeros((W0.shape[0], 1)) ])\n",
    "b0 = np.zeros((1, l))\n",
    "b0[0, -1] = 1"
   ]
  },
  {
   "cell_type": "code",
   "execution_count": 6,
   "id": "3ca418e8-4aad-49e0-8755-c242b0118e3a",
   "metadata": {},
   "outputs": [
    {
     "data": {
      "text/plain": [
       "((13, 200), (1, 200))"
      ]
     },
     "execution_count": 6,
     "metadata": {},
     "output_type": "execute_result"
    }
   ],
   "source": [
    "W0.shape, b0.shape"
   ]
  },
  {
   "cell_type": "code",
   "execution_count": 7,
   "id": "9fd77e97-f73d-45a2-a273-a93d07fe285e",
   "metadata": {},
   "outputs": [],
   "source": [
    "# condition check removes the last empty batch when W divides by batch size equally\n",
    "split_idx = [batch_l*(i+1) for i in range(l // batch_l) if batch_l*(i+1) < l]\n",
    "l_blocks = len(split_idx) + 1\n",
    "\n",
    "# split W and bias at once\n",
    "Wb = [(wb, bias_b) for wb,bias_b in zip(\n",
    "    np.array_split(W0, split_idx, axis=1),\n",
    "    np.array_split(b0, split_idx, axis=1)\n",
    ")]"
   ]
  },
  {
   "cell_type": "code",
   "execution_count": 8,
   "id": "0368bb9f-73d3-4054-81a1-e3a7f1aaf743",
   "metadata": {},
   "outputs": [],
   "source": [
    "spWb = sc.parallelize(enumerate(Wb))\n",
    "spW2 = sc.broadcast(spWb.cartesian(spWb).collect())"
   ]
  },
  {
   "cell_type": "markdown",
   "id": "034439cb-9a48-4969-8923-022ba0d08ca9",
   "metadata": {},
   "source": [
    "## One Criteo file"
   ]
  },
  {
   "cell_type": "code",
   "execution_count": 9,
   "id": "c90e44e1-268d-454c-b565-89db19a57186",
   "metadata": {},
   "outputs": [],
   "source": [
    "fname = \"/Users/akusok/wrkdir/criteo/day_0.gz\"\n",
    "fpart = \"/Users/akusok/wrkdir/criteo/part_0.gz\"\n",
    "fdir = \"/Users/akusok/wrkdir/criteo/day_0/\"\n",
    "ffull = \"/Volumes/P9230/Datasets/Criteo/\""
   ]
  },
  {
   "cell_type": "code",
   "execution_count": 10,
   "id": "8e96696a-62f7-4b98-8e30-68bd913156d5",
   "metadata": {},
   "outputs": [],
   "source": [
    "# loaded from auto-detect schema\n",
    "schema = StructType([\n",
    "    StructField('y', IntegerType(), True), \n",
    "    StructField('x1', IntegerType(), True), \n",
    "    StructField('x2', IntegerType(), True), \n",
    "    StructField('x3', IntegerType(), True), \n",
    "    StructField('x4', IntegerType(), True), \n",
    "    StructField('x5', IntegerType(), True), \n",
    "    StructField('x6', IntegerType(), True), \n",
    "    StructField('x7', IntegerType(), True), \n",
    "    StructField('x8', IntegerType(), True), \n",
    "    StructField('x9', IntegerType(), True), \n",
    "    StructField('x10', IntegerType(), True), \n",
    "    StructField('x11', IntegerType(), True), \n",
    "    StructField('x12', IntegerType(), True), \n",
    "    StructField('x13', IntegerType(), True), \n",
    "])"
   ]
  },
  {
   "cell_type": "code",
   "execution_count": 11,
   "id": "c1cbfa56-3b4c-4d10-889e-ce0bb73ec0a1",
   "metadata": {},
   "outputs": [],
   "source": [
    "df_raw = spark.read.options(delimiter=\"\\t\").csv(ffull, schema=schema)\n",
    "# N = df_raw.count()"
   ]
  },
  {
   "cell_type": "markdown",
   "id": "5109823e-eaac-413c-b5b8-34f667691ea3",
   "metadata": {},
   "source": [
    "```\n",
    "195841983\n",
    "```"
   ]
  },
  {
   "cell_type": "code",
   "execution_count": 12,
   "id": "a9e482da-96fc-4d95-81e1-0fde109c9d53",
   "metadata": {},
   "outputs": [],
   "source": [
    "df_y = df_raw.select(\"y\")\n",
    "df = df_raw.select(*[f\"x{i}\" for i in range(1, 14)])"
   ]
  },
  {
   "cell_type": "code",
   "execution_count": 13,
   "id": "caf35519-0943-45e5-80b7-6ddc003385e1",
   "metadata": {
    "tags": []
   },
   "outputs": [],
   "source": [
    "# df_y.groupby(\"y\").agg(F.count(\"*\")).show()"
   ]
  },
  {
   "cell_type": "markdown",
   "id": "ce721dd3-85eb-4e40-b77b-b4eb6124af40",
   "metadata": {},
   "source": [
    "```\n",
    "+---+---------+\n",
    "|  y| count(1)|\n",
    "+---+---------+\n",
    "|  1|  6286525|\n",
    "|  0|189555458|\n",
    "+---+---------+\n",
    "```"
   ]
  },
  {
   "cell_type": "markdown",
   "id": "6fe96118-bba6-40c5-9e88-39b567c4dc1d",
   "metadata": {},
   "source": [
    "## Process a bunch of Numpy arrays into chunks of HH arrays\n",
    "\n",
    "## _PYSPARK_"
   ]
  },
  {
   "cell_type": "code",
   "execution_count": 14,
   "id": "72214054-71e4-49b0-aed5-75d3a14aa11d",
   "metadata": {},
   "outputs": [],
   "source": [
    "def compute(buf):\n",
    "    x0 = pd.DataFrame(buf).fillna(-1).to_numpy().astype(int)\n",
    "    \n",
    "    for w in spW2.value:\n",
    "        i, (w1, b1) = w[0]\n",
    "        j, (w2, b2) = w[1]\n",
    "\n",
    "        if j < i:\n",
    "            yield ((i, j), 0)\n",
    "        else:\n",
    "            # Qb = (f(X0@Wb1) + bb1).T @ (f(X0@Wb2) + bb2)\n",
    "            yield ((i, j), (np.tanh(x0@w1) + b1).T @ (np.tanh(x0@w2) + b2))"
   ]
  },
  {
   "cell_type": "code",
   "execution_count": 15,
   "id": "2cb8be22-554e-4366-b0c8-6014a09c566a",
   "metadata": {},
   "outputs": [],
   "source": [
    "def process_partition(data):\n",
    "    buf = []\n",
    "    \n",
    "    for d in data:\n",
    "        buf.append(d)\n",
    "        if len(buf) >= batch_N:\n",
    "            yield from compute(buf)\n",
    "            buf = []\n",
    "            \n",
    "    if len(buf) > 0:\n",
    "        yield from compute(buf)"
   ]
  },
  {
   "cell_type": "code",
   "execution_count": 16,
   "id": "b65ce227-2755-4a6b-88be-9f948ca6a8f8",
   "metadata": {},
   "outputs": [],
   "source": [
    "spBlocks = df.rdd.map(np.array).mapPartitions(process_partition).foldByKey(0, add)"
   ]
  },
  {
   "cell_type": "markdown",
   "id": "c1189197-aaee-4a6f-a867-2dd40ea2d530",
   "metadata": {},
   "source": [
    "`Repartition` vs `Coalesce`"
   ]
  },
  {
   "cell_type": "markdown",
   "id": "8be6f125-17be-4a30-a1c1-647aad40dae5",
   "metadata": {},
   "source": [
    "Bring computations to data, not the other way"
   ]
  },
  {
   "cell_type": "code",
   "execution_count": 17,
   "id": "bf0fc78a-6dd3-4628-bde3-e830bcc92a01",
   "metadata": {},
   "outputs": [
    {
     "name": "stderr",
     "output_type": "stream",
     "text": [
      "[Stage 1:======================================================>  (23 + 1) / 24]\r"
     ]
    },
    {
     "name": "stdout",
     "output_type": "stream",
     "text": [
      "CPU times: user 1.83 s, sys: 1.63 s, total: 3.47 s\n",
      "Wall time: 6h 36min 13s\n"
     ]
    },
    {
     "name": "stderr",
     "output_type": "stream",
     "text": [
      "                                                                                \r"
     ]
    },
    {
     "data": {
      "text/plain": [
       "(200, 200)"
      ]
     },
     "execution_count": 17,
     "metadata": {},
     "output_type": "execute_result"
    }
   ],
   "source": [
    "%%time\n",
    "\n",
    "W_blocks = [[ [] for _ in range(l_blocks)  ] for _ in range(l_blocks)]\n",
    "\n",
    "# gather data into block matrix\n",
    "for (i, j), Qb in spBlocks.collect():\n",
    "    W_blocks[i][j] = Qb\n",
    "\n",
    "# fill missing triangular part\n",
    "for i in range(l_blocks):\n",
    "    for j in range(l_blocks):\n",
    "        if j > i:\n",
    "            W_blocks[j][i] = W_blocks[i][j].T\n",
    "\n",
    "W3 = np.block(W_blocks)\n",
    "W3.shape"
   ]
  },
  {
   "cell_type": "code",
   "execution_count": 18,
   "id": "69303aee-9a88-4781-ac56-d03a02f00393",
   "metadata": {},
   "outputs": [
    {
     "data": {
      "text/plain": [
       "array([[ 4.34e+09, -1.80e+09, -2.89e+09, -1.92e+09, -1.86e+09],\n",
       "       [-1.80e+09,  4.35e+09,  2.33e+09,  2.82e+09,  3.16e+09],\n",
       "       [-2.89e+09,  2.33e+09,  4.37e+09,  2.26e+09,  2.75e+09],\n",
       "       [-1.92e+09,  2.82e+09,  2.26e+09,  4.36e+09,  3.56e+09],\n",
       "       [-1.86e+09,  3.16e+09,  2.75e+09,  3.56e+09,  4.37e+09]])"
      ]
     },
     "execution_count": 18,
     "metadata": {},
     "output_type": "execute_result"
    }
   ],
   "source": [
    "W3[:5, :5]"
   ]
  },
  {
   "cell_type": "code",
   "execution_count": 19,
   "id": "db014364-8836-46f3-95c1-542e6a6be06f",
   "metadata": {},
   "outputs": [
    {
     "data": {
      "text/plain": [
       "array([[ 4.36e+09,  3.11e+09,  3.99e+09, -3.39e+09],\n",
       "       [ 3.11e+09,  4.35e+09,  3.03e+09, -3.60e+09],\n",
       "       [ 3.99e+09,  3.03e+09,  4.36e+09, -3.63e+09],\n",
       "       [-3.39e+09, -3.60e+09, -3.63e+09,  4.37e+09]])"
      ]
     },
     "execution_count": 19,
     "metadata": {},
     "output_type": "execute_result"
    }
   ],
   "source": [
    "W3[-4:, -4:]"
   ]
  },
  {
   "cell_type": "code",
   "execution_count": 22,
   "id": "ed29a2b5-b2de-4cbb-8a2d-60a3f8d1ebb6",
   "metadata": {},
   "outputs": [],
   "source": [
    "np.save(\"/Users/akusok/wrkdir/criteo/W3.npy\", W3)"
   ]
  },
  {
   "cell_type": "code",
   "execution_count": 23,
   "id": "3d97b4d1-10cf-42cf-99dd-c7529e65d8c5",
   "metadata": {},
   "outputs": [
    {
     "data": {
      "text/plain": [
       "4373472329.0"
      ]
     },
     "execution_count": 23,
     "metadata": {},
     "output_type": "execute_result"
    }
   ],
   "source": [
    "W3[-1,-1]"
   ]
  },
  {
   "cell_type": "code",
   "execution_count": 25,
   "id": "e1de0632-31bf-4d1e-9641-de43c3d444d7",
   "metadata": {},
   "outputs": [
    {
     "data": {
      "text/plain": [
       "4.373472329"
      ]
     },
     "execution_count": 25,
     "metadata": {},
     "output_type": "execute_result"
    }
   ],
   "source": [
    "W3[-1,-1] / 1e9"
   ]
  },
  {
   "cell_type": "markdown",
   "id": "8c43597f-0f63-4551-a7da-d77d4dae42db",
   "metadata": {},
   "source": [
    "## Measure pure unzip time"
   ]
  },
  {
   "cell_type": "code",
   "execution_count": 4,
   "id": "e4295361-969c-43a6-a1fd-74b24b9f9bce",
   "metadata": {},
   "outputs": [
    {
     "name": "stdout",
     "output_type": "stream",
     "text": [
      "Overwriting foo.py\n"
     ]
    }
   ],
   "source": [
    "%%writefile foo.py\n",
    "\n",
    "import gzip as gz\n",
    "from time import time\n",
    "from multiprocessing import Pool\n",
    "\n",
    "def foo(i):\n",
    "    a = 0\n",
    "    with gz.open(f\"/Volumes/P9230/Datasets/Criteo/day_{i}.gz\", \"rb\") as fdata:\n",
    "        for line in fdata:\n",
    "            a += len(line)\n",
    "    return a\n",
    "\n",
    "if __name__ == \"__main__\":\n",
    "    t = time()\n",
    "    with Pool(8) as p:\n",
    "        res = p.map(foo, range(8))\n",
    "    print(time() - t)\n",
    "    \n",
    "# python foo.py  2372.30s user 100.72s system 228% cpu 18:03.20 total"
   ]
  }
 ],
 "metadata": {
  "kernelspec": {
   "display_name": "Python 3 (ipykernel)",
   "language": "python",
   "name": "python3"
  },
  "language_info": {
   "codemirror_mode": {
    "name": "ipython",
    "version": 3
   },
   "file_extension": ".py",
   "mimetype": "text/x-python",
   "name": "python",
   "nbconvert_exporter": "python",
   "pygments_lexer": "ipython3",
   "version": "3.10.6"
  }
 },
 "nbformat": 4,
 "nbformat_minor": 5
}
